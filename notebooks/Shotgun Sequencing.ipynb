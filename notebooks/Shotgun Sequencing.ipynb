{
 "cells": [
  {
   "attachments": {},
   "cell_type": "markdown",
   "metadata": {},
   "source": [
    "# Shotgun Sequencing"
   ]
  },
  {
   "attachments": {},
   "cell_type": "markdown",
   "metadata": {},
   "source": [
    "### Generating a Random Genome"
   ]
  },
  {
   "cell_type": "code",
   "execution_count": 192,
   "metadata": {},
   "outputs": [],
   "source": [
    "import random\n",
    "import unittest"
   ]
  },
  {
   "cell_type": "code",
   "execution_count": 193,
   "metadata": {},
   "outputs": [],
   "source": [
    "genome_length = 100\n",
    "\n",
    "min_read_length = 2\n",
    "max_read_length = 10"
   ]
  },
  {
   "cell_type": "code",
   "execution_count": 194,
   "metadata": {},
   "outputs": [],
   "source": [
    "def generate_genome(genome_length):\n",
    "    \"\"\"Generates a genome sequence of a specified length.\n",
    "\n",
    "    Args:\n",
    "        length (integre): The length of the generated genome.\n",
    "\n",
    "    Returns:\n",
    "        string: Return a string, that is the generated genome.\n",
    "    \"\"\"\n",
    "\n",
    "    bases  = ['A', 'C', 'G', 'T']\n",
    "    generated_genome = ''\n",
    "\n",
    "    for i in range(genome_length):\n",
    "        generated_genome += random.choice(bases)\n",
    "\n",
    "    return generated_genome"
   ]
  },
  {
   "cell_type": "code",
   "execution_count": 195,
   "metadata": {},
   "outputs": [],
   "source": [
    "import random\n",
    "\n",
    "def generate_reads(genome, min_read_length, max_read_length):\n",
    "    \"\"\"\n",
    "    Simulates shotgun sequencing by breaking up a genome sequence into fragments of random length.\n",
    "\n",
    "    Args:\n",
    "    - genome (str): The genome sequence to be fragmented.\n",
    "\n",
    "    Returns:\n",
    "    - dna_reads (list of str): The resulting DNA reads.\n",
    "    \"\"\"\n",
    "\n",
    "    dna_reads = []\n",
    "    genome_size = len(genome)\n",
    "    position = 0\n",
    "\n",
    "    while position < genome_size:\n",
    "        fragment_size = random.randint(min_read_length, max_read_length)\n",
    "\n",
    "        if position + fragment_size > genome_size:\n",
    "            fragment_size = genome_size - position\n",
    "\n",
    "        dna_reads.append(genome[position:position+fragment_size])\n",
    "        position += fragment_size\n",
    "\n",
    "    return dna_reads"
   ]
  },
  {
   "cell_type": "code",
   "execution_count": 196,
   "metadata": {},
   "outputs": [
    {
     "name": "stdout",
     "output_type": "stream",
     "text": [
      "Assembly completed with succes!\n",
      "Genome: GAAAAGGTGACCCCGACTGCCTCTTCTTCTATCCACCAGCCGTCCCTAACCTGTGGCCACTCATGGTAACGCGGTAGGATGCTTTAATCTTAAGCATGTG\n",
      "Reconstructed genome: GAAAAGGTGACCCCGACTGCCTCTTCTTCTATCCACCAGCCGTCCCTAACCTGTGGCCACTCATGGTAACGCGGTAGGATGCTTTAATCTTAAGCATGTG\n"
     ]
    }
   ],
   "source": [
    "genome = generate_genome(genome_length)\n",
    "dna_reads = generate_reads(genome, min_read_length, max_read_length)\n",
    "reconstructed_genome = \"\".join(dna_reads)\n",
    "\n",
    "if reconstructed_genome == genome:\n",
    "    print(\"Assembly completed with succes!\")\n",
    "    print(\"Genome: {}\".format(genome))\n",
    "    print(\"Reconstructed genome: {}\".format(reconstructed_genome))"
   ]
  },
  {
   "cell_type": "code",
   "execution_count": 197,
   "metadata": {},
   "outputs": [
    {
     "name": "stdout",
     "output_type": "stream",
     "text": [
      "['GA', 'AAAGGTGA', 'CCCCGACT', 'GCC', 'TCT', 'TCTTCT', 'ATCCACCAG', 'CCGTCCC', 'TAA', 'CC', 'TGTGGCC', 'ACTCA', 'TGGTAA', 'CGCGGTAG', 'GATGCTT', 'TAATCT', 'TAAGCA', 'TGTG']\n"
     ]
    }
   ],
   "source": [
    "print(dna_reads)"
   ]
  },
  {
   "cell_type": "code",
   "execution_count": 198,
   "metadata": {},
   "outputs": [],
   "source": [
    "def shuffle_reads(dna_reads):\n",
    "    random.shuffle(dna_reads)\n",
    "    return dna_reads"
   ]
  },
  {
   "cell_type": "code",
   "execution_count": 199,
   "metadata": {},
   "outputs": [
    {
     "name": "stdout",
     "output_type": "stream",
     "text": [
      "['CCCCGACT', 'TGTG', 'CC', 'TCT', 'GATGCTT', 'TAA', 'AAAGGTGA', 'CGCGGTAG', 'TAAGCA', 'ATCCACCAG', 'TGTGGCC', 'TCTTCT', 'GCC', 'ACTCA', 'GA', 'CCGTCCC', 'TAATCT', 'TGGTAA']\n"
     ]
    }
   ],
   "source": [
    "print(shuffle_reads(dna_reads))"
   ]
  },
  {
   "cell_type": "code",
   "execution_count": null,
   "metadata": {},
   "outputs": [],
   "source": []
  }
 ],
 "metadata": {
  "kernelspec": {
   "display_name": "scsp",
   "language": "python",
   "name": "python3"
  },
  "language_info": {
   "codemirror_mode": {
    "name": "ipython",
    "version": 3
   },
   "file_extension": ".py",
   "mimetype": "text/x-python",
   "name": "python",
   "nbconvert_exporter": "python",
   "pygments_lexer": "ipython3",
   "version": "3.11.0"
  },
  "orig_nbformat": 4
 },
 "nbformat": 4,
 "nbformat_minor": 2
}
