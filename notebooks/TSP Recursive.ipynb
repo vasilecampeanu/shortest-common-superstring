{
 "cells": [
  {
   "attachments": {},
   "cell_type": "markdown",
   "metadata": {},
   "source": [
    "# Imports"
   ]
  },
  {
   "cell_type": "code",
   "execution_count": null,
   "metadata": {},
   "outputs": [],
   "source": [
    "import time\n",
    "import matplotlib.pyplot as plt"
   ]
  },
  {
   "attachments": {},
   "cell_type": "markdown",
   "metadata": {},
   "source": [
    "# TSP Recursive"
   ]
  },
  {
   "cell_type": "code",
   "execution_count": null,
   "metadata": {},
   "outputs": [],
   "source": [
    "def tsp(graph, start, end, path, shortest_paths, debug=False):\n",
    "    # Mark the current node as visited\n",
    "    path.append(start)\n",
    "\n",
    "    # Base case: if the current node is the end node, the path is complete\n",
    "    if start == end:\n",
    "        if debug is True:\n",
    "            print(\"Found a path:\", path)\n",
    "        shortest_paths.append(path.copy())\n",
    "    else:\n",
    "        # Recursive case: explore all unvisited neighbors\n",
    "        for neighbor in graph[start]:\n",
    "            if neighbor not in path:\n",
    "                tsp(graph, neighbor, end, path, shortest_paths, debug)\n",
    "\n",
    "    # Backtrack and mark the current node as unvisited\n",
    "    path.pop()\n",
    "\n",
    "# Define the graph as a dictionary of lists\n",
    "graph = {\n",
    "    'A': ['B', 'C', 'D'],\n",
    "    'B': ['A', 'C', 'D'],\n",
    "    'C': ['A', 'B', 'D'],\n",
    "    'D': ['A', 'B', 'C'],\n",
    "}\n",
    "\n",
    "# Return only shortest path\n",
    "def get_shortest_path(graph, start, end):\n",
    "    shortest_paths = []\n",
    "    tsp(graph, start, end, [], shortest_paths)\n",
    "    shortest_paths.sort(key=len)\n",
    "    return shortest_paths[0]\n",
    "\n",
    "# Get shortest path\n",
    "shortest_path = get_shortest_path(graph, 'A', 'C')\n",
    "\n",
    "# Print shortest path\n",
    "print(\"\\nShortest path:\", shortest_path)"
   ]
  },
  {
   "attachments": {},
   "cell_type": "markdown",
   "metadata": {},
   "source": [
    "# Get function elapsed time"
   ]
  },
  {
   "cell_type": "code",
   "execution_count": null,
   "metadata": {},
   "outputs": [],
   "source": [
    "# define the number of runs to average over\n",
    "num_runs = 100000\n",
    "\n",
    "# initialize a list for storing the elapsed times\n",
    "elapsed_times = []\n",
    "\n",
    "for i in range(num_runs):\n",
    "    # Start the timer\n",
    "    start_time = time.perf_counter()\n",
    "    \n",
    "    # Get shortest path\n",
    "    get_shortest_path(graph, 'A', 'C')\n",
    "\n",
    "    # End the timer\n",
    "    end_time = time.perf_counter()\n",
    "    \n",
    "    # Compute the elapsed time and add it to the list\n",
    "    elapsed_time = end_time - start_time\n",
    "    elapsed_times.append(elapsed_time)\n",
    "\n",
    "# Plot the elapsed times using a line chart\n",
    "plt.plot(elapsed_times)\n",
    "\n",
    "# Add a title and labels for the axes\n",
    "plt.title(\"Elapsed Times for TSP Function\")\n",
    "plt.xlabel(\"Run Number\")\n",
    "plt.ylabel(\"Elapsed Time (s)\")\n",
    "\n",
    "# Show the plot\n",
    "plt.show()"
   ]
  },
  {
   "cell_type": "code",
   "execution_count": null,
   "metadata": {},
   "outputs": [],
   "source": [
    "# Compute the average elapsed time\n",
    "average_elapsed_time = sum(elapsed_times) / num_runs\n",
    "print(\"Average elapsed time:\", average_elapsed_time)"
   ]
  }
 ],
 "metadata": {
  "kernelspec": {
   "display_name": "scsp",
   "language": "python",
   "name": "python3"
  },
  "language_info": {
   "codemirror_mode": {
    "name": "ipython",
    "version": 3
   },
   "file_extension": ".py",
   "mimetype": "text/x-python",
   "name": "python",
   "nbconvert_exporter": "python",
   "pygments_lexer": "ipython3",
   "version": "3.11.0"
  },
  "orig_nbformat": 4
 },
 "nbformat": 4,
 "nbformat_minor": 2
}
