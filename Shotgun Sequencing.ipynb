{
 "cells": [
  {
   "attachments": {},
   "cell_type": "markdown",
   "metadata": {},
   "source": [
    "# Shotgun Sequencing"
   ]
  },
  {
   "attachments": {},
   "cell_type": "markdown",
   "metadata": {},
   "source": [
    "### Generating a Random Genome"
   ]
  },
  {
   "cell_type": "code",
   "execution_count": 1,
   "metadata": {},
   "outputs": [],
   "source": [
    "import random"
   ]
  },
  {
   "cell_type": "code",
   "execution_count": 2,
   "metadata": {},
   "outputs": [],
   "source": [
    "genomeLength = 100"
   ]
  },
  {
   "cell_type": "code",
   "execution_count": 3,
   "metadata": {},
   "outputs": [],
   "source": [
    "def generateGenome(length):\n",
    "    \"\"\"Generates a genome sequence of a specified length.\n",
    "\n",
    "    Args:\n",
    "        length (integre): The length of the generated genome.\n",
    "\n",
    "    Returns:\n",
    "        string: Return a string, that is the generated genome.\n",
    "    \"\"\"\n",
    "\n",
    "    bases = ['A', 'C', 'G', 'T']\n",
    "    genome = ''\n",
    "\n",
    "    for i in range(length):\n",
    "        genome += random.choice(bases)\n",
    "\n",
    "    return genome"
   ]
  },
  {
   "cell_type": "code",
   "execution_count": 5,
   "metadata": {},
   "outputs": [
    {
     "name": "stdout",
     "output_type": "stream",
     "text": [
      "ATGAAGCGCATATGGCCTCAGCACCAGCTTTTTAGCTTACGCACACTAACATCCCGTGGCGGAACTGGTAACCCCTGCCGGAGCCACGCACGACCTGGCG\n"
     ]
    }
   ],
   "source": [
    "genome = generateGenome(genomeLength)\n",
    "print(genome)"
   ]
  },
  {
   "cell_type": "code",
   "execution_count": null,
   "metadata": {},
   "outputs": [],
   "source": []
  }
 ],
 "metadata": {
  "kernelspec": {
   "display_name": "scsp",
   "language": "python",
   "name": "python3"
  },
  "language_info": {
   "codemirror_mode": {
    "name": "ipython",
    "version": 3
   },
   "file_extension": ".py",
   "mimetype": "text/x-python",
   "name": "python",
   "nbconvert_exporter": "python",
   "pygments_lexer": "ipython3",
   "version": "3.11.0"
  },
  "orig_nbformat": 4
 },
 "nbformat": 4,
 "nbformat_minor": 2
}
